{
  "nbformat": 4,
  "nbformat_minor": 0,
  "metadata": {
    "colab": {
      "provenance": [],
      "mount_file_id": "1ql3hUNahnzkr8eAPS0WlV2dpKfUntAWO",
      "authorship_tag": "ABX9TyPRAxk9HNPEIocq/CL3hH4M",
      "include_colab_link": true
    },
    "kernelspec": {
      "name": "python3",
      "display_name": "Python 3"
    },
    "language_info": {
      "name": "python"
    }
  },
  "cells": [
    {
      "cell_type": "markdown",
      "metadata": {
        "id": "view-in-github",
        "colab_type": "text"
      },
      "source": [
        "<a href=\"https://colab.research.google.com/github/SEONGHYUN99/ML-for-AI/blob/main/220908_MC.ipynb\" target=\"_parent\"><img src=\"https://colab.research.google.com/assets/colab-badge.svg\" alt=\"Open In Colab\"/></a>"
      ]
    },
    {
      "cell_type": "code",
      "execution_count": null,
      "metadata": {
        "id": "kvDsaBW8w9Rd"
      },
      "outputs": [],
      "source": [
        "!cd drive/MyDrive"
      ]
    },
    {
      "cell_type": "code",
      "source": [
        "# (already downloaded) \n",
        "# !git clone htttps://github.com/stefmolin/Hands-On-Data-Analysis-with-Pandas-2nd-edition.git"
      ],
      "metadata": {
        "id": "hWGF_Aci3CZJ"
      },
      "execution_count": null,
      "outputs": []
    },
    {
      "cell_type": "code",
      "source": [],
      "metadata": {
        "id": "xpjlEs0e4mGc"
      },
      "execution_count": null,
      "outputs": []
    }
  ]
}