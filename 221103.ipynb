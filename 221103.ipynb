{
  "nbformat": 4,
  "nbformat_minor": 0,
  "metadata": {
    "colab": {
      "provenance": [],
      "collapsed_sections": [],
      "authorship_tag": "ABX9TyMWkxhmWWc14xPk1FsmszKv",
      "include_colab_link": true
    },
    "kernelspec": {
      "name": "python3",
      "display_name": "Python 3"
    },
    "language_info": {
      "name": "python"
    }
  },
  "cells": [
    {
      "cell_type": "markdown",
      "metadata": {
        "id": "view-in-github",
        "colab_type": "text"
      },
      "source": [
        "<a href=\"https://colab.research.google.com/github/SEONGHYUN99/ML-for-AI/blob/main/221103.ipynb\" target=\"_parent\"><img src=\"https://colab.research.google.com/assets/colab-badge.svg\" alt=\"Open In Colab\"/></a>"
      ]
    },
    {
      "cell_type": "markdown",
      "source": [
        "ch02, prepare the data for machine learning algorithms 중요!"
      ],
      "metadata": {
        "id": "ZykqJ7twKNKX"
      }
    },
    {
      "cell_type": "markdown",
      "source": [
        "### Task1\n",
        "- Try Ch2 codes\n",
        "- Try grid search CV and random search CV\n",
        "- Check what other parameters are available for RandomForestRegressor, try your own grid search CV or random search CV"
      ],
      "metadata": {
        "id": "ygO4P0V3N1I9"
      }
    },
    {
      "cell_type": "code",
      "source": [
        "#Grid Search CV\n",
        "from sklearn.model_selection import GridSearchCV\n",
        "\n",
        "param_grid = [\n",
        "    {\"n_estimators\": [3,10,30], \"max_features\":[2,4,6,8]},\n",
        "    {\"bootstrap\":[False],\"n_estimator\":[2,3,4]},\n",
        "]\n",
        "\n",
        "forest_reg=RandomForestRegressor(random_state=42)\n",
        "\n",
        "grid_search=GridSearchCV(forest_reg, param_grid, cv=5,\n",
        "                         scoring='neg_mean_squared_error'.\n",
        "                         return_train_score=True)\n",
        "\n",
        "grid_search.fit(housing_prepared, housing_labels)"
      ],
      "metadata": {
        "id": "Zkk9hmkmOEUo"
      },
      "execution_count": null,
      "outputs": []
    },
    {
      "cell_type": "code",
      "source": [
        "grid_search.best_params_"
      ],
      "metadata": {
        "id": "3Ze41wWQQrXV"
      },
      "execution_count": null,
      "outputs": []
    },
    {
      "cell_type": "code",
      "source": [
        "grid_search.best_estimator_"
      ],
      "metadata": {
        "id": "F5dNnCFAQuGT"
      },
      "execution_count": null,
      "outputs": []
    },
    {
      "cell_type": "code",
      "source": [
        "#check the score of each hyperparameter combinations tested during the grid search\n",
        "cvres=grid_search_cv_results_\n",
        "fr mean_score, params in zip(cvres[\"mean_test_score\"], cvres[\"params\"]):\n",
        "print(np.sqrt(-mean_score), params)"
      ],
      "metadata": {
        "id": "WIsw58GpQzTL"
      },
      "execution_count": null,
      "outputs": []
    },
    {
      "cell_type": "code",
      "source": [
        "pd.DataFrame(grid_search.cv_results_)"
      ],
      "metadata": {
        "id": "t9pmrUEVldps"
      },
      "execution_count": null,
      "outputs": []
    },
    {
      "cell_type": "code",
      "source": [
        "#Random Search CV\n",
        "from sklearn.model_selection import RandomizedSearchCV\n",
        "from scipy.stats import randint\n",
        "\n",
        "param_distribs = {\n",
        "        'n_estimators': randint(low=1, high=200),\n",
        "        'max_features': randint(low=1, high=8),\n",
        "    }\n",
        "\n",
        "forest_reg = RandomForestRegressor(random_state=42)\n",
        "rnd_search = RandomizedSearchCV(forest_reg, param_distributions=param_distribs,\n",
        "                                n_iter=10, cv=5, scoring='neg_mean_squared_error', random_state=42)\n",
        "rnd_search.fit(housing_prepared, housing_labels)"
      ],
      "metadata": {
        "id": "6qJYnU0Zleey"
      },
      "execution_count": null,
      "outputs": []
    },
    {
      "cell_type": "code",
      "source": [
        "cvres = rnd_search.cv_results_\n",
        "for mean_score, params in zip(cvres[\"mean_test_score\"], cvres[\"params\"]):\n",
        "    print(np.sqrt(-mean_score), params)"
      ],
      "metadata": {
        "id": "tzp4yYoelkn8"
      },
      "execution_count": null,
      "outputs": []
    },
    {
      "cell_type": "code",
      "source": [
        "#my own grid search CV\n",
        "param_grid = [\n",
        "    \n",
        "    {'n_estimators': [3, 10, 30], 'max_features': [2, 4, 6, 8]},\n",
        "    \n",
        "    {'bootstrap': [False], 'n_estimators': [3, 30], 'max_features': [2, 4, 8]},\n",
        "  ]\n",
        "\n",
        "forest_reg = RandomForestRegressor(random_state=42)\n",
        "\n",
        "grid_search = GridSearchCV(forest_reg, param_grid, cv=7,\n",
        "                           scoring='neg_mean_squared_error',\n",
        "                           return_train_score=True)\n",
        "grid_search.fit(housing_prepared, housing_labels)\n"
      ],
      "metadata": {
        "id": "68CJCAUambUj"
      },
      "execution_count": null,
      "outputs": []
    },
    {
      "cell_type": "code",
      "source": [
        "grid_search.best_params_"
      ],
      "metadata": {
        "id": "RPUKbQ6sml4N"
      },
      "execution_count": null,
      "outputs": []
    },
    {
      "cell_type": "code",
      "source": [
        "grid_search.best_estimator_"
      ],
      "metadata": {
        "id": "236IxD5Lmmqh"
      },
      "execution_count": null,
      "outputs": []
    },
    {
      "cell_type": "code",
      "source": [
        "cvres = grid_search.cv_results_\n",
        "for mean_score, params in zip(cvres[\"mean_test_score\"], cvres[\"params\"]):\n",
        "    print(np.sqrt(-mean_score), params)"
      ],
      "metadata": {
        "id": "SrBxtAbumn_r"
      },
      "execution_count": null,
      "outputs": []
    },
    {
      "cell_type": "code",
      "source": [
        "pd.DataFrame(grid_search.cv_results_)"
      ],
      "metadata": {
        "id": "fGww-ntkmqFs"
      },
      "execution_count": null,
      "outputs": []
    },
    {
      "cell_type": "markdown",
      "source": [
        "### Task2\n",
        "- Try Ch3 codes"
      ],
      "metadata": {
        "id": "cRb_u2xdOFTh"
      }
    }
  ]
}